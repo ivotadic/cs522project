{
  "cells": [
    {
      "metadata": {
        "trusted": true,
        "_uuid": "d53daf6cf4007ff44e07ebf2c1660f2fe0298bdf"
      },
      "cell_type": "code",
      "source": "import pandas as pd\nimport gc\nimport seaborn as sns\nimport matplotlib.pyplot as plt\nfrom datetime import datetime, timedelta\nfrom kaggle.competitions import twosigmanews\nfrom sklearn import *\nfrom lightgbm import LGBMClassifier\nimport time\nfrom sklearn.metrics import accuracy_score\nfrom sklearn.metrics import roc_auc_score\nfrom sklearn.metrics import confusion_matrix\nimport numpy as np",
      "execution_count": null,
      "outputs": []
    },
    {
      "metadata": {
        "_uuid": "d2f86a4d9502732347b7fb79b7e67ca248c59fc5"
      },
      "cell_type": "markdown",
      "source": "**Obtaining Data**\n\nCreate Environment"
    },
    {
      "metadata": {
        "_uuid": "8f2839f25d086af736a60e9eeb907d3b93b6e0e5",
        "_cell_guid": "b1076dfc-b9ad-4769-8c92-a6c4dae69d19",
        "trusted": true
      },
      "cell_type": "code",
      "source": "env = twosigmanews.make_env()",
      "execution_count": null,
      "outputs": []
    },
    {
      "metadata": {
        "_uuid": "6b3684e757cf9517b2c23c7c8bfcde26b142f374"
      },
      "cell_type": "markdown",
      "source": "Obtain Market and News data"
    },
    {
      "metadata": {
        "trusted": true,
        "_uuid": "c20fa6deeac9d374c98774abd90bdc76b023ee63"
      },
      "cell_type": "code",
      "source": "(market, news) = env.get_training_data()",
      "execution_count": null,
      "outputs": []
    },
    {
      "metadata": {
        "_uuid": "3aa56cf3593f03685de074398d11cbb904f48115"
      },
      "cell_type": "markdown",
      "source": "**Initial analysis of the data**"
    },
    {
      "metadata": {
        "trusted": true,
        "_uuid": "4f734aac723eacaea544cff4ef12d6117ae55a55"
      },
      "cell_type": "code",
      "source": "fig,axes = plt.subplots(1,1,figsize=(20,10))\naxes.set_title(\"Records per year\")\naxes.set_ylabel(\"Records\")\naxes.set_xlabel(\"Year\")\naxes.plot(market.time.dt.date.value_counts().sort_index().index, market.time.dt.date.value_counts().sort_index().values)",
      "execution_count": null,
      "outputs": []
    },
    {
      "metadata": {
        "trusted": true,
        "_uuid": "c1343d0d5d7b03aae6e705e10693d40bce1314d0"
      },
      "cell_type": "code",
      "source": "market.info()",
      "execution_count": null,
      "outputs": []
    },
    {
      "metadata": {
        "trusted": true,
        "_uuid": "5969265c82daefb42310824f9e61db8f867b1f08"
      },
      "cell_type": "code",
      "source": "news.info()",
      "execution_count": null,
      "outputs": []
    },
    {
      "metadata": {
        "_uuid": "5491ef69bfa6850146a0e9378f9cd7abc4dbf0a4"
      },
      "cell_type": "markdown",
      "source": "**Helper Functions**"
    },
    {
      "metadata": {
        "trusted": true,
        "_uuid": "139583c6702269f49aeb686af863b82e68d4f386"
      },
      "cell_type": "code",
      "source": "# Convert from comma separated to their own rows\ndef expandAssetCodes(news):\n    codes = []\n    indexes = []\n    for i, values in news['assetCodes'].iteritems():\n        explode = values.split(\", \")\n        codes.extend(explode)\n        repeat_index = [int(i)]*len(explode)\n        indexes.extend(repeat_index)\n    indexOfFrames = pd.DataFrame({'newsIndex': indexes, 'assetCode': codes})\n    del codes, indexes\n    gc.collect()\n    return indexOfFrames\n\n# Merge news with the index of asset codes \ndef expandNewsByAssetByIndex(news, expandedAssetCodes):\n    news['newsIndex'] = news.index.copy()\n    newsMerged = expandedAssetCodes.merge(news, how='left', on='newsIndex')\n    return newsMerged\n\ndef processMarketData(market, isTraining):\n    \n    # The following 2 lines are mostly for debug mode because it would take too long\n    # to have all the data for analysis and for testing out different options but the code\n    # needs to be commented out for submiting the final version\n    \n    start = datetime(2013, 1, 1, 0, 0, 0).date()    \n    market = market.loc[market['time'].dt.date >= start].reset_index(drop=True)\n    \n    if (isTraining):\n        market = market.loc[market['universe'] >= 1.0].reset_index(drop=True)\n        market.drop(['universe'], axis=1, inplace=True)\n    \n    # delete columns with nulls based on data analysis\n    market.drop(['returnsClosePrevMktres1', 'returnsOpenPrevMktres1', 'returnsClosePrevMktres10', 'returnsOpenPrevMktres10'], axis=1, inplace=True)\n\n    market['date'] = market.time.dt.date\n    market.drop(['time'], axis=1, inplace=True)\n    market.drop(['assetName'], axis=1, inplace=True)\n    return market\n\ndef processNewsData(news):\n    \n    # The following 2 lines are mostly for debug mode because it would take too long\n    # to have all the data for analysis and for testing out different options but the code\n    # needs to be commented out for submiting the final version\n    start = datetime(2013, 1, 1, 0, 0, 0).date()\n    news = news.loc[news['time'].dt.date >= start].reset_index(drop=True)    \n    \n    news['assetCodes'] = news['assetCodes'].apply(lambda x: x[1:-1].replace(\"'\", \"\"))\n    news['commentaryyes'] = 0\n    news['commentaryno'] = 0\n    news.loc[news['marketCommentary'] == True, 'commentaryyes'] = 1\n    news.loc[news['marketCommentary'] == False, 'commentaryno'] = 1\n    news.drop(['marketCommentary'], axis=1, inplace=True)\n    \n    #delete columns that have too low or no indication to play a role in the prediciton\n    news.drop(['urgency', 'bodySize', 'sentimentClass', 'sentimentWordCount', 'sentenceCount', 'wordCount', 'volumeCounts7D', 'volumeCounts5D', 'volumeCounts3D', 'volumeCounts24H', 'volumeCounts12H', 'noveltyCount7D', 'noveltyCount5D', 'noveltyCount3D', 'noveltyCount24H', 'noveltyCount12H', 'firstMentionSentence'], axis=1, inplace=True)\n    indexOfAssets = expandAssetCodes(news)\n    newsExpanded = expandNewsByAssetByIndex(news, indexOfAssets)\n    del news, indexOfAssets\n    gc.collect()\n    newsExpanded['date'] = newsExpanded.time.dt.date\n    newsExpanded.drop(['time'], axis=1, inplace=True)\n    newsExpanded.drop(['newsIndex', 'sourceTimestamp', 'firstCreated', 'subjects', 'audiences', 'headlineTag', 'headline', 'assetCodes', 'assetName', 'sourceId'], axis=1, inplace=True)\n    return newsExpanded\n    ",
      "execution_count": null,
      "outputs": []
    },
    {
      "metadata": {
        "_uuid": "851de7adc9b685c6ff27bb42bdde06b6764cc83e"
      },
      "cell_type": "markdown",
      "source": "**Pre-processing Market data**"
    },
    {
      "metadata": {
        "trusted": true,
        "_uuid": "419945f38ffae4797283e441dc26c7805a53b952"
      },
      "cell_type": "code",
      "source": "market.head(n=5)",
      "execution_count": null,
      "outputs": []
    },
    {
      "metadata": {
        "trusted": true,
        "_uuid": "6811a1a76f08b2a029543cf73bcdf4dfca7dc362",
        "scrolled": true
      },
      "cell_type": "code",
      "source": "market_train = processMarketData(market, True)\ndel market\ngc.collect()",
      "execution_count": null,
      "outputs": []
    },
    {
      "metadata": {
        "trusted": true,
        "_uuid": "2b9ab70d16361f8b30eeacddab79d2260f8eb299"
      },
      "cell_type": "code",
      "source": "market_train.info()",
      "execution_count": null,
      "outputs": []
    },
    {
      "metadata": {
        "_uuid": "47411d20d6dda28310ba4ee75115f519742e710c"
      },
      "cell_type": "markdown",
      "source": "**Pre-processing News data**"
    },
    {
      "metadata": {
        "trusted": true,
        "_uuid": "617b0a6370e66b7d1ea5e256b568c44856426956"
      },
      "cell_type": "code",
      "source": "news_train = processNewsData(news)\ndel news\ngc.collect()",
      "execution_count": null,
      "outputs": []
    },
    {
      "metadata": {
        "trusted": true,
        "_uuid": "094f57c49ee1e83ccfa603f26d1b95eecabb7866"
      },
      "cell_type": "code",
      "source": "news_train.head(n=5)",
      "execution_count": null,
      "outputs": []
    },
    {
      "metadata": {
        "trusted": true,
        "_uuid": "8757ddbb26fc57b53d2a9369e12a1178be85ff31"
      },
      "cell_type": "code",
      "source": "news_train.info()",
      "execution_count": null,
      "outputs": []
    },
    {
      "metadata": {
        "_uuid": "3dd03ed36e517b89a27c6128920fced383636b5f"
      },
      "cell_type": "markdown",
      "source": "**Combining Market and News data for trainning**"
    },
    {
      "metadata": {
        "trusted": true,
        "_uuid": "e19cc187a925d41447872b2d1006170bc82abcb4"
      },
      "cell_type": "code",
      "source": "marketNews_train = market_train.merge(news_train, how='left', on=['assetCode', 'date'])\ndel market_train, news_train\ngc.collect()",
      "execution_count": null,
      "outputs": []
    },
    {
      "metadata": {
        "trusted": true,
        "_uuid": "522b90df86f6c9b250de256a42d7f43dbc82c0f3"
      },
      "cell_type": "code",
      "source": "marketNews_train.info()",
      "execution_count": null,
      "outputs": []
    },
    {
      "metadata": {
        "trusted": true,
        "_uuid": "ea6b91c91028b0487f3787c963edb02780529389"
      },
      "cell_type": "code",
      "source": "marketNews_train = marketNews_train.dropna()",
      "execution_count": null,
      "outputs": []
    },
    {
      "metadata": {
        "_uuid": "3a5030abd285168ce5cf39e2c7df472eb3586e65"
      },
      "cell_type": "markdown",
      "source": "**Analyzing combined News and Market data**"
    },
    {
      "metadata": {
        "trusted": true,
        "_uuid": "0076cb107643c8ee6a47c79dbdaa6f9a4b05dc37"
      },
      "cell_type": "code",
      "source": "marketNews_train.info()",
      "execution_count": null,
      "outputs": []
    },
    {
      "metadata": {
        "trusted": true,
        "_uuid": "b3f1b6789a1bf302b15753fb3ff2b28ddfb8b535"
      },
      "cell_type": "code",
      "source": "marketNews_train.corr().style.format(\"{:.2}\").background_gradient(cmap=plt.get_cmap('coolwarm'), axis=1)",
      "execution_count": null,
      "outputs": []
    },
    {
      "metadata": {
        "trusted": true,
        "_uuid": "d0f5c13394e4cc74045c391847d5394ebe694b6f"
      },
      "cell_type": "code",
      "source": "marketNews_train[['sentimentPositive', 'sentimentNegative', 'sentimentNeutral']].mean().plot(kind='bar')\nplt.title(\"Sentiment chart\")\nplt.show()",
      "execution_count": null,
      "outputs": []
    },
    {
      "metadata": {
        "trusted": true,
        "_uuid": "c7a1c0dda6f8d28052deb203a4860f064b51d389"
      },
      "cell_type": "code",
      "source": "marketNews_train[['commentaryyes', 'commentaryno']].mean().plot(kind='bar')\nplt.title(\"Market Commentary\")\nplt.show()",
      "execution_count": null,
      "outputs": []
    },
    {
      "metadata": {
        "_uuid": "0258c9dbfe9d2bac6e140de1c3d7de9eef695271"
      },
      "cell_type": "markdown",
      "source": "**Extracting feature to be predicted**"
    },
    {
      "metadata": {
        "trusted": true,
        "_uuid": "6093f5465310ad550bd18784a8b2105722a3bea0"
      },
      "cell_type": "code",
      "source": "num_target = marketNews_train.returnsOpenNextMktres10.astype('float32')\nbin_target = (marketNews_train.returnsOpenNextMktres10 >= 0).astype('int8')",
      "execution_count": null,
      "outputs": []
    },
    {
      "metadata": {
        "_uuid": "b6a38c4789ded230bcdb49c528307c2f21b982cc"
      },
      "cell_type": "markdown",
      "source": "**Splitting Train vs. Test data (80/20 split)**"
    },
    {
      "metadata": {
        "trusted": true,
        "_uuid": "d785e597fc408eaf5b0866708c9c6c0c6bd856d5"
      },
      "cell_type": "code",
      "source": "train_indexes, test_indexes = model_selection.train_test_split(marketNews_train.index.values, test_size=0.20, random_state = 11)",
      "execution_count": null,
      "outputs": []
    },
    {
      "metadata": {
        "trusted": true,
        "_uuid": "bcffe0bb788c66f964c18949b95e39deac6ac035"
      },
      "cell_type": "code",
      "source": "lgbmClassifier = LGBMClassifier(\n    objective='binary',\n    boosting='gbdt',\n    learning_rate = 0.05,\n    max_depth = 8,\n    num_leaves = 80,\n    n_estimators = 400,\n    bagging_fraction = 0.8,\n    feature_fraction = 0.9)",
      "execution_count": null,
      "outputs": []
    },
    {
      "metadata": {
        "trusted": true,
        "_uuid": "8232c787420faad807249f3a2add4e8418edfa69"
      },
      "cell_type": "code",
      "source": "marketNews_train.drop(['returnsOpenNextMktres10'], axis=1, inplace=True)\ngc.collect()\nmarketNews_train.head(1)",
      "execution_count": null,
      "outputs": []
    },
    {
      "metadata": {
        "trusted": true,
        "_uuid": "f8fafdc4ba9a522821b373341a13b6279fa98de9"
      },
      "cell_type": "code",
      "source": "marketNews_train.drop(['date', 'assetCode'], axis=1, inplace=True)\ngc.collect()",
      "execution_count": null,
      "outputs": []
    },
    {
      "metadata": {
        "trusted": true,
        "_uuid": "4e26dee92709ac97a5d25429237dd42d1893efe9"
      },
      "cell_type": "code",
      "source": "marketNews_train.info()",
      "execution_count": null,
      "outputs": []
    },
    {
      "metadata": {
        "_uuid": "05a559f273c4b1ba4063c2dba1d1800477e0e04c"
      },
      "cell_type": "markdown",
      "source": "**Trainning time**"
    },
    {
      "metadata": {
        "trusted": true,
        "_uuid": "438ba5dd8e2e7695cb8fb2e2359e49c1524cee3f"
      },
      "cell_type": "code",
      "source": "print('Fitting Model')\nlgbmClassifier.fit(marketNews_train.loc[train_indexes],bin_target.loc[train_indexes])\nprint('Fitting Model Completed')",
      "execution_count": null,
      "outputs": []
    },
    {
      "metadata": {
        "trusted": true,
        "_uuid": "b42e3ad30a099577693cb30236bea13a6e0394f2"
      },
      "cell_type": "code",
      "source": "print(\"Accuracy : %f\" % accuracy_score(lgbmClassifier.predict(marketNews_train.loc[test_indexes]), bin_target.loc[test_indexes]))\nprint(\"AUC factor: %f\" % roc_auc_score(bin_target.loc[test_indexes].values, lgbmClassifier.predict_proba(marketNews_train.loc[test_indexes])[:, 1]))",
      "execution_count": null,
      "outputs": []
    },
    {
      "metadata": {
        "trusted": true,
        "_uuid": "d37e5f6a6c356c90640cff8e3b112d772a072871"
      },
      "cell_type": "code",
      "source": "import matplotlib.pyplot as plt\nfrom mlxtend.evaluate import confusion_matrix\nfrom mlxtend.plotting import plot_confusion_matrix\nimport seaborn as sns\n%matplotlib inline\nimport matplotlib as mpl\nmpl.rcParams['axes.titlesize'] = 20\nmpl.rcParams['axes.labelsize'] = 16\nmpl.rcParams['xtick.labelsize'] = 16\nmpl.rcParams['ytick.labelsize'] = 16",
      "execution_count": null,
      "outputs": []
    },
    {
      "metadata": {
        "trusted": true,
        "_uuid": "08e39e18e25d1de9b69a1ddbcd8defc2d966f218"
      },
      "cell_type": "code",
      "source": "plt.hist(lgbmClassifier.predict_proba(marketNews_train.loc[test_indexes])[:, 1] * 2 - 1, bins='auto', alpha=0.5, color='green')\nplt.xlabel(\"Confidence\")\nplt.ylabel(\"Count\")\nplt.title(\"Predicted confidence\")\nplt.show()",
      "execution_count": null,
      "outputs": []
    },
    {
      "metadata": {
        "trusted": true,
        "_uuid": "ca7d67ad21ea6b36944197af343d1c8781f1d3af"
      },
      "cell_type": "code",
      "source": "confusionMatrix = confusion_matrix(y_target=np.array(bin_target.loc[test_indexes]), y_predicted=lgbmClassifier.predict(marketNews_train.loc[test_indexes]).tolist())\nfig, ax = plot_confusion_matrix(conf_mat=confusionMatrix)\nplt.show()",
      "execution_count": null,
      "outputs": []
    },
    {
      "metadata": {
        "trusted": true,
        "_uuid": "e4ece50cef1eabf5ef14ea398ee2ba40bac4d9c4"
      },
      "cell_type": "code",
      "source": "featureImportance = pd.DataFrame()\nfeatureImportance[\"feature\"] = marketNews_train.columns\nfeatureImportance[\"value\"] = lgbmClassifier.feature_importances_\nfeatureImportance.sort_values(by='value', ascending=False, inplace=True)\n\nplt.figure(figsize=(15,10))\nfeatureImportanceGraph = sns.barplot(y=\"feature\", x=\"value\", data=featureImportance)",
      "execution_count": null,
      "outputs": []
    },
    {
      "metadata": {
        "trusted": true,
        "_uuid": "8837ac41fe2ba078b904d46942dfd83c7f102c96"
      },
      "cell_type": "code",
      "source": "def mypredict(market_obs_df, news_obs_df, predictions_template_df):\n    marketp = processMarketData(market_obs_df, False)\n    del market_obs_df\n    gc.collect()\n    newsp = processNewsData(news_obs_df)\n    del news_obs_df\n    gc.collect()\n    observedMarketNews = marketp.merge(newsp, how='left', on=['assetCode', 'date'])\n    del marketp, newsp\n    gc.collect()\n    feats = [c for c in observedMarketNews.columns if c not in ['assetCode', 'date', 'returnsOpenNextMktres10']]\n    preds = lgbmClassifier.predict_proba(observedMarketNews[feats])[:, 1]\n    sub = pd.DataFrame({'assetCode': observedMarketNews['assetCode'], 'confidence': preds})\n    predictions_template_df = predictions_template_df.merge(sub, how='left').drop(\n        'confidenceValue', axis=1).fillna(0).rename(columns={'confidence':'confidenceValue'})\n    predictions_template_df = predictions_template_df.groupby(['assetCode'], as_index=False).agg('mean')\n    env.predict(predictions_template_df)\n    del observedMarketNews, predictions_template_df, preds, sub\n    gc.collect()\n    ",
      "execution_count": null,
      "outputs": []
    },
    {
      "metadata": {
        "trusted": true,
        "_uuid": "68bd7474a94748efcfce56d50ea05afd591d09a4"
      },
      "cell_type": "code",
      "source": "#days = env.get_prediction_days()",
      "execution_count": null,
      "outputs": []
    },
    {
      "metadata": {
        "trusted": true,
        "_uuid": "056aa9cf95d75e2299c26211b23f59c57433be6e"
      },
      "cell_type": "code",
      "source": "#(market_obs_df, news_obs_df, predictions_template_df) = next(days)",
      "execution_count": null,
      "outputs": []
    },
    {
      "metadata": {
        "trusted": true,
        "_uuid": "2318795a3517250641d08b81840fb3bcc8fcf336"
      },
      "cell_type": "code",
      "source": "#testds = mypredict(market_obs_df, news_obs_df, predictions_template_df)",
      "execution_count": null,
      "outputs": []
    },
    {
      "metadata": {
        "trusted": true,
        "_uuid": "25c382ad89c6d30bc0995c3d2c624e247c910b88"
      },
      "cell_type": "code",
      "source": "#testds.info()",
      "execution_count": null,
      "outputs": []
    },
    {
      "metadata": {
        "trusted": true,
        "_uuid": "6cb6aa3d9c1a191500deb677b5ec16e5c59d4ba8"
      },
      "cell_type": "code",
      "source": "for (market_obs_df, news_obs_df, predictions_template_df) in  env.get_prediction_days():\n    mypredict(market_obs_df, news_obs_df, predictions_template_df)\nprint('Done!')",
      "execution_count": null,
      "outputs": []
    },
    {
      "metadata": {
        "trusted": true,
        "_uuid": "52c7540bc251a9fca4cc82ed044bf38bb646ab79"
      },
      "cell_type": "code",
      "source": "env.write_submission_file()",
      "execution_count": null,
      "outputs": []
    },
    {
      "metadata": {
        "trusted": true,
        "_uuid": "11c5b072aefdd54e6fbe9ae71dc3ea41909ade19"
      },
      "cell_type": "code",
      "source": "# We've got a submission file!\nimport os\nprint([filename for filename in os.listdir('.') if '.csv' in filename])",
      "execution_count": null,
      "outputs": []
    },
    {
      "metadata": {
        "trusted": true,
        "_uuid": "672e88dbfaf74193dbc339accc9258d7e829c98e"
      },
      "cell_type": "code",
      "source": "submission_dataset  = pd.read_csv('submission.csv')\nsubmission_dataset.head(3)",
      "execution_count": null,
      "outputs": []
    },
    {
      "metadata": {
        "trusted": true,
        "_uuid": "b4c72e8352273029ebe06b6ff1d9cade2e730d5f"
      },
      "cell_type": "code",
      "source": "submission_dataset.info()",
      "execution_count": null,
      "outputs": []
    },
    {
      "metadata": {
        "trusted": true,
        "_uuid": "c9637a6376362616f145ae4c99badce482aa6f8f"
      },
      "cell_type": "code",
      "source": "plt.hist(submission_dataset.confidenceValue, bins='auto', color='red')\nplt.xlabel(\"Confidence\")\nplt.ylabel(\"Count\")\nplt.title(\"Confidence against real prediction (non trainning data)\")\nplt.show()",
      "execution_count": null,
      "outputs": []
    }
  ],
  "metadata": {
    "kernelspec": {
      "display_name": "Python 3",
      "language": "python",
      "name": "python3"
    },
    "language_info": {
      "name": "python",
      "version": "3.6.6",
      "mimetype": "text/x-python",
      "codemirror_mode": {
        "name": "ipython",
        "version": 3
      },
      "pygments_lexer": "ipython3",
      "nbconvert_exporter": "python",
      "file_extension": ".py"
    }
  },
  "nbformat": 4,
  "nbformat_minor": 1
}